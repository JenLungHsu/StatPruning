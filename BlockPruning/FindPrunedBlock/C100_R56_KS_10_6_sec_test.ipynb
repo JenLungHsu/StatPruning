{
 "cells": [
  {
   "cell_type": "code",
   "execution_count": 14,
   "id": "7eac974e",
   "metadata": {},
   "outputs": [],
   "source": [
    "import torch\n",
    "import numpy as np\n",
    "import pandas as pd\n",
    "import torchvision.models as models\n",
    "from scipy.stats import mannwhitneyu\n",
    "from scipy.stats import ks_2samp\n",
    "\n",
    "# 定義鉤子函數來保存每個 block 的輸出\n",
    "def hook_fn_pretrained(module, input, output):\n",
    "    activations_pretrained.append(output.detach().clone().cpu())\n",
    "\n",
    "# 判斷有無子模組\n",
    "def has_children(module):\n",
    "    return len(list(module.children())) > 0\n",
    "\n",
    "# 定義一個函數來加載權重並獲取激活分佈\n",
    "def get_activations_from_model(model, hook_fn, hooks, weights=None):\n",
    "    # 根據 hook_fn 判斷要清空哪個全域列表\n",
    "    activations_pretrained.clear()\n",
    "    \n",
    "    # 為每個 block 註冊鉤子\n",
    "    for stage_idx, stage in enumerate(model.children()):\n",
    "        if isinstance(stage, torch.nn.Sequential):  # 確保 stage 是一個 Sequential 模塊\n",
    "            for unit_idx, unit in enumerate(stage):\n",
    "                if has_children(unit):\n",
    "                    hook = unit.register_forward_hook(hook_fn)\n",
    "                    hooks.append(hook)\n",
    "    # print(len(hooks))\n",
    "    \n",
    "    # 生成輸入 tensor，並將其放到 device 上\n",
    "    input_tensor = torch.randn(1, 3, 32, 32, device=device)\n",
    "    model.to(device)\n",
    "    model(input_tensor)\n",
    "    \n",
    "    # 移除所有鉤子\n",
    "    for hook in hooks:\n",
    "        hook.remove()\n",
    "\n",
    "# 預訓練權重的模型\n",
    "def load_pretrained_model(test='MW', arch='resnet56',data='cifar10'):\n",
    "    import os\n",
    "    import sys\n",
    "    sys.path.append(\"/ssd5/Roy/pytorch_resnet_cifar10-master\")\n",
    "    if data == 'cifar10':\n",
    "        import resnet_cifar10\n",
    "        if arch == 'resnet56':\n",
    "            model = resnet_cifar10.__dict__[arch]()\n",
    "            path=os.path.join('/ssd5/Roy/pytorch_resnet_cifar10-master/pretrained_models', arch + '.th')\n",
    "\n",
    "        elif arch == 'resnet110':\n",
    "            model = resnet_cifar10.__dict__[arch]()\n",
    "            path=os.path.join('/ssd5/Roy/pytorch_resnet_cifar10-master/pretrained_models', arch + '.th')\n",
    "    elif data == 'cifar100':\n",
    "        import resnet_cifar100\n",
    "        if arch == 'resnet56':\n",
    "            model = torch.hub.load(\"chenyaofo/pytorch-cifar-models\", \"cifar100_resnet56\", pretrained=True)\n",
    "\n",
    "            if test == 'MW':\n",
    "                for i in range(4, 1, -1):  # 逆向刪除，避免索引錯亂\n",
    "                    del model.layer3[i]\n",
    "                path = \"/ssd5/Roy/pytorch_resnet_cifar10-master/save_resnet56_cifar100/KS/best_model.th\"\n",
    "\n",
    "            elif test == 'KS':\n",
    "                for i in range(4, 1, -1):  # 逆向刪除，避免索引錯亂\n",
    "                    del model.layer3[i]\n",
    "                path = \"/ssd5/Roy/pytorch_resnet_cifar10-master/save_resnet56_cifar100/KS/best_model.th\"\n",
    "                \n",
    "        elif arch == 'resnet110':\n",
    "            model = resnet_cifar100.__dict__[arch]()\n",
    "            path = \"/ssd5/Roy/pytorch_resnet_cifar10-master/save_resnet110_cifar100/best_model.th\"\n",
    "    elif data == 'imagenet':\n",
    "        if arch == 'resnet50':\n",
    "            from torchvision.models import resnet50, ResNet50_Weights\n",
    "            model = resnet50(weights=ResNet50_Weights.IMAGENET1K_V1)\n",
    "        elif arch == 'resnet101':\n",
    "            from torchvision.models import resnet101, ResNet101_Weights\n",
    "            model = resnet101(weights=ResNet101_Weights.IMAGENET1K_V1)\n",
    "    else:\n",
    "        raise ValueError(\n",
    "            f\"Invalid dataset '{data}'. Supported options are: 'cifar10', 'cifar100', 'imagenet'.\"\n",
    "        )\n",
    "\n",
    "    if path:\n",
    "        checkpoint = torch.load(path)\n",
    "        state_dict = checkpoint['state_dict']  # 如果你的檔案裡有 `state_dict`，取出來\n",
    "\n",
    "        new_state_dict = {}\n",
    "        for key, value in state_dict.items():\n",
    "            new_key = key.replace(\"module.\", \"\")  # 移除 module.\n",
    "            new_state_dict[new_key] = value\n",
    "\n",
    "        model.load_state_dict(new_state_dict)\n",
    "\n",
    "    return model\n",
    "\n",
    "def remove_outliers(data):\n",
    "    q1 = np.percentile(data, 25)\n",
    "    q3 = np.percentile(data, 75)\n",
    "    iqr = q3 - q1\n",
    "    lower_bound = q1 - 1.5 * iqr\n",
    "    upper_bound = q3 + 1.5 * iqr\n",
    "    return data[(data >= lower_bound) & (data <= upper_bound)]\n",
    "\n",
    "\n",
    "def StatTest(test, arch, data):\n",
    "\n",
    "    # 獲取預訓練權重的激活\n",
    "    pretrained_model = load_pretrained_model(test= test, arch=arch,data=data)\n",
    "    get_activations_from_model(pretrained_model, hook_fn_pretrained, hooks_pretrained)\n",
    "    activations_pretrained_copy = activations_pretrained.copy()  # 儲存預訓練的激活\n",
    "\n",
    "    rows = []\n",
    "    n = len(activations_pretrained_copy)\n",
    "    for i in range(1, n):\n",
    "        # Pretrained 模型\n",
    "        act_before_pre = activations_pretrained_copy[i-1].numpy().flatten()\n",
    "        act_after_pre  = activations_pretrained_copy[i].numpy().flatten()\n",
    "\n",
    "        act_before_pre = remove_outliers(act_before_pre)\n",
    "        act_after_pre = remove_outliers(act_after_pre)\n",
    "\n",
    "        if test == 'MW':\n",
    "            # Mannwhitneyu\n",
    "            u_stat_pre, p_val_pre = mannwhitneyu(act_before_pre, act_after_pre, alternative='two-sided')\n",
    "        elif test == 'KS':\n",
    "            # KS\n",
    "            u_stat_pre, p_val_pre = ks_2samp(act_before_pre, act_after_pre)\n",
    "        sig_pre = \"*\" if p_val_pre < 0.05 else \"\"\n",
    "        mean_pre = np.mean(act_after_pre)\n",
    "        std_pre = np.std(act_after_pre)\n",
    "\n",
    "        # 使用 pretrained 模型當前 block 的輸出形狀作為參考\n",
    "        output_shape = activations_pretrained_copy[i].shape\n",
    "        \n",
    "        rows.append([i, output_shape, mean_pre, std_pre, sig_pre, p_val_pre])\n",
    "\n",
    "    # 建立 DataFrame\n",
    "    columns = ['block_index', \n",
    "            'output shape', \n",
    "            'mean of pretrained', 'std of pretrained', 'sig of pretrained', 'p_val']\n",
    "    df_stats = pd.DataFrame(rows, columns=columns)\n",
    "    return df_stats\n"
   ]
  },
  {
   "cell_type": "code",
   "execution_count": 15,
   "id": "eb5b51a1",
   "metadata": {},
   "outputs": [
    {
     "name": "stderr",
     "output_type": "stream",
     "text": [
      "Using cache found in /home/hsujenlung/.cache/torch/hub/chenyaofo_pytorch-cifar-models_master\n",
      "/tmp/ipykernel_201864/3649987748.py:84: FutureWarning: You are using `torch.load` with `weights_only=False` (the current default value), which uses the default pickle module implicitly. It is possible to construct malicious pickle data which will execute arbitrary code during unpickling (See https://github.com/pytorch/pytorch/blob/main/SECURITY.md#untrusted-models for more details). In a future release, the default value for `weights_only` will be flipped to `True`. This limits the functions that could be executed during unpickling. Arbitrary objects will no longer be allowed to be loaded via this mode unless they are explicitly allowlisted by the user via `torch.serialization.add_safe_globals`. We recommend you start setting `weights_only=True` for any use case where you don't have full control of the loaded file. Please open an issue on GitHub for any issues related to this experimental feature.\n",
      "  checkpoint = torch.load(path)\n"
     ]
    },
    {
     "name": "stdout",
     "output_type": "stream",
     "text": [
      "\n",
      "Total elapsed time: 5.62 seconds\n"
     ]
    },
    {
     "data": {
      "text/html": [
       "<style type=\"text/css\">\n",
       "</style>\n",
       "<table id=\"T_8ae05\">\n",
       "  <thead>\n",
       "    <tr>\n",
       "      <th id=\"T_8ae05_level0_col0\" class=\"col_heading level0 col0\" >block_index</th>\n",
       "      <th id=\"T_8ae05_level0_col1\" class=\"col_heading level0 col1\" >output shape</th>\n",
       "      <th id=\"T_8ae05_level0_col2\" class=\"col_heading level0 col2\" >mean of pretrained</th>\n",
       "      <th id=\"T_8ae05_level0_col3\" class=\"col_heading level0 col3\" >std of pretrained</th>\n",
       "      <th id=\"T_8ae05_level0_col4\" class=\"col_heading level0 col4\" >sig of pretrained</th>\n",
       "      <th id=\"T_8ae05_level0_col5\" class=\"col_heading level0 col5\" >p_val</th>\n",
       "    </tr>\n",
       "  </thead>\n",
       "  <tbody>\n",
       "    <tr>\n",
       "      <td id=\"T_8ae05_row0_col0\" class=\"data row0 col0\" >1</td>\n",
       "      <td id=\"T_8ae05_row0_col1\" class=\"data row0 col1\" >torch.Size([1, 16, 32, 32])</td>\n",
       "      <td id=\"T_8ae05_row0_col2\" class=\"data row0 col2\" >0.145969</td>\n",
       "      <td id=\"T_8ae05_row0_col3\" class=\"data row0 col3\" >0.131881</td>\n",
       "      <td id=\"T_8ae05_row0_col4\" class=\"data row0 col4\" >*</td>\n",
       "      <td id=\"T_8ae05_row0_col5\" class=\"data row0 col5\" >0.000000</td>\n",
       "    </tr>\n",
       "    <tr>\n",
       "      <td id=\"T_8ae05_row1_col0\" class=\"data row1 col0\" >2</td>\n",
       "      <td id=\"T_8ae05_row1_col1\" class=\"data row1 col1\" >torch.Size([1, 16, 32, 32])</td>\n",
       "      <td id=\"T_8ae05_row1_col2\" class=\"data row1 col2\" >0.156791</td>\n",
       "      <td id=\"T_8ae05_row1_col3\" class=\"data row1 col3\" >0.140875</td>\n",
       "      <td id=\"T_8ae05_row1_col4\" class=\"data row1 col4\" >*</td>\n",
       "      <td id=\"T_8ae05_row1_col5\" class=\"data row1 col5\" >0.000001</td>\n",
       "    </tr>\n",
       "    <tr>\n",
       "      <td id=\"T_8ae05_row2_col0\" class=\"data row2 col0\" >3</td>\n",
       "      <td id=\"T_8ae05_row2_col1\" class=\"data row2 col1\" >torch.Size([1, 16, 32, 32])</td>\n",
       "      <td id=\"T_8ae05_row2_col2\" class=\"data row2 col2\" >0.177974</td>\n",
       "      <td id=\"T_8ae05_row2_col3\" class=\"data row2 col3\" >0.156678</td>\n",
       "      <td id=\"T_8ae05_row2_col4\" class=\"data row2 col4\" >*</td>\n",
       "      <td id=\"T_8ae05_row2_col5\" class=\"data row2 col5\" >0.000000</td>\n",
       "    </tr>\n",
       "    <tr>\n",
       "      <td id=\"T_8ae05_row3_col0\" class=\"data row3 col0\" >4</td>\n",
       "      <td id=\"T_8ae05_row3_col1\" class=\"data row3 col1\" >torch.Size([1, 16, 32, 32])</td>\n",
       "      <td id=\"T_8ae05_row3_col2\" class=\"data row3 col2\" >0.188818</td>\n",
       "      <td id=\"T_8ae05_row3_col3\" class=\"data row3 col3\" >0.163919</td>\n",
       "      <td id=\"T_8ae05_row3_col4\" class=\"data row3 col4\" >*</td>\n",
       "      <td id=\"T_8ae05_row3_col5\" class=\"data row3 col5\" >0.000000</td>\n",
       "    </tr>\n",
       "    <tr>\n",
       "      <td id=\"T_8ae05_row4_col0\" class=\"data row4 col0\" >5</td>\n",
       "      <td id=\"T_8ae05_row4_col1\" class=\"data row4 col1\" >torch.Size([1, 16, 32, 32])</td>\n",
       "      <td id=\"T_8ae05_row4_col2\" class=\"data row4 col2\" >0.209931</td>\n",
       "      <td id=\"T_8ae05_row4_col3\" class=\"data row4 col3\" >0.175645</td>\n",
       "      <td id=\"T_8ae05_row4_col4\" class=\"data row4 col4\" >*</td>\n",
       "      <td id=\"T_8ae05_row4_col5\" class=\"data row4 col5\" >0.000000</td>\n",
       "    </tr>\n",
       "    <tr>\n",
       "      <td id=\"T_8ae05_row5_col0\" class=\"data row5 col0\" >6</td>\n",
       "      <td id=\"T_8ae05_row5_col1\" class=\"data row5 col1\" >torch.Size([1, 16, 32, 32])</td>\n",
       "      <td id=\"T_8ae05_row5_col2\" class=\"data row5 col2\" >0.224222</td>\n",
       "      <td id=\"T_8ae05_row5_col3\" class=\"data row5 col3\" >0.171722</td>\n",
       "      <td id=\"T_8ae05_row5_col4\" class=\"data row5 col4\" >*</td>\n",
       "      <td id=\"T_8ae05_row5_col5\" class=\"data row5 col5\" >0.000000</td>\n",
       "    </tr>\n",
       "    <tr>\n",
       "      <td id=\"T_8ae05_row6_col0\" class=\"data row6 col0\" >7</td>\n",
       "      <td id=\"T_8ae05_row6_col1\" class=\"data row6 col1\" >torch.Size([1, 16, 32, 32])</td>\n",
       "      <td id=\"T_8ae05_row6_col2\" class=\"data row6 col2\" >0.220866</td>\n",
       "      <td id=\"T_8ae05_row6_col3\" class=\"data row6 col3\" >0.180595</td>\n",
       "      <td id=\"T_8ae05_row6_col4\" class=\"data row6 col4\" >*</td>\n",
       "      <td id=\"T_8ae05_row6_col5\" class=\"data row6 col5\" >0.000000</td>\n",
       "    </tr>\n",
       "    <tr>\n",
       "      <td id=\"T_8ae05_row7_col0\" class=\"data row7 col0\" >8</td>\n",
       "      <td id=\"T_8ae05_row7_col1\" class=\"data row7 col1\" >torch.Size([1, 16, 32, 32])</td>\n",
       "      <td id=\"T_8ae05_row7_col2\" class=\"data row7 col2\" >0.235808</td>\n",
       "      <td id=\"T_8ae05_row7_col3\" class=\"data row7 col3\" >0.162588</td>\n",
       "      <td id=\"T_8ae05_row7_col4\" class=\"data row7 col4\" >*</td>\n",
       "      <td id=\"T_8ae05_row7_col5\" class=\"data row7 col5\" >0.000000</td>\n",
       "    </tr>\n",
       "    <tr>\n",
       "      <td id=\"T_8ae05_row8_col0\" class=\"data row8 col0\" >9</td>\n",
       "      <td id=\"T_8ae05_row8_col1\" class=\"data row8 col1\" >torch.Size([1, 32, 16, 16])</td>\n",
       "      <td id=\"T_8ae05_row8_col2\" class=\"data row8 col2\" >0.098774</td>\n",
       "      <td id=\"T_8ae05_row8_col3\" class=\"data row8 col3\" >0.105855</td>\n",
       "      <td id=\"T_8ae05_row8_col4\" class=\"data row8 col4\" >*</td>\n",
       "      <td id=\"T_8ae05_row8_col5\" class=\"data row8 col5\" >0.000000</td>\n",
       "    </tr>\n",
       "    <tr>\n",
       "      <td id=\"T_8ae05_row9_col0\" class=\"data row9 col0\" >10</td>\n",
       "      <td id=\"T_8ae05_row9_col1\" class=\"data row9 col1\" >torch.Size([1, 32, 16, 16])</td>\n",
       "      <td id=\"T_8ae05_row9_col2\" class=\"data row9 col2\" >0.119152</td>\n",
       "      <td id=\"T_8ae05_row9_col3\" class=\"data row9 col3\" >0.112276</td>\n",
       "      <td id=\"T_8ae05_row9_col4\" class=\"data row9 col4\" >*</td>\n",
       "      <td id=\"T_8ae05_row9_col5\" class=\"data row9 col5\" >0.000000</td>\n",
       "    </tr>\n",
       "    <tr>\n",
       "      <td id=\"T_8ae05_row10_col0\" class=\"data row10 col0\" >11</td>\n",
       "      <td id=\"T_8ae05_row10_col1\" class=\"data row10 col1\" >torch.Size([1, 32, 16, 16])</td>\n",
       "      <td id=\"T_8ae05_row10_col2\" class=\"data row10 col2\" >0.131963</td>\n",
       "      <td id=\"T_8ae05_row10_col3\" class=\"data row10 col3\" >0.118243</td>\n",
       "      <td id=\"T_8ae05_row10_col4\" class=\"data row10 col4\" >*</td>\n",
       "      <td id=\"T_8ae05_row10_col5\" class=\"data row10 col5\" >0.000000</td>\n",
       "    </tr>\n",
       "    <tr>\n",
       "      <td id=\"T_8ae05_row11_col0\" class=\"data row11 col0\" >12</td>\n",
       "      <td id=\"T_8ae05_row11_col1\" class=\"data row11 col1\" >torch.Size([1, 32, 16, 16])</td>\n",
       "      <td id=\"T_8ae05_row11_col2\" class=\"data row11 col2\" >0.135138</td>\n",
       "      <td id=\"T_8ae05_row11_col3\" class=\"data row11 col3\" >0.122397</td>\n",
       "      <td id=\"T_8ae05_row11_col4\" class=\"data row11 col4\" ></td>\n",
       "      <td id=\"T_8ae05_row11_col5\" class=\"data row11 col5\" >0.253928</td>\n",
       "    </tr>\n",
       "    <tr>\n",
       "      <td id=\"T_8ae05_row12_col0\" class=\"data row12 col0\" >13</td>\n",
       "      <td id=\"T_8ae05_row12_col1\" class=\"data row12 col1\" >torch.Size([1, 32, 16, 16])</td>\n",
       "      <td id=\"T_8ae05_row12_col2\" class=\"data row12 col2\" >0.142626</td>\n",
       "      <td id=\"T_8ae05_row12_col3\" class=\"data row12 col3\" >0.127566</td>\n",
       "      <td id=\"T_8ae05_row12_col4\" class=\"data row12 col4\" >*</td>\n",
       "      <td id=\"T_8ae05_row12_col5\" class=\"data row12 col5\" >0.012831</td>\n",
       "    </tr>\n",
       "    <tr>\n",
       "      <td id=\"T_8ae05_row13_col0\" class=\"data row13 col0\" >14</td>\n",
       "      <td id=\"T_8ae05_row13_col1\" class=\"data row13 col1\" >torch.Size([1, 32, 16, 16])</td>\n",
       "      <td id=\"T_8ae05_row13_col2\" class=\"data row13 col2\" >0.153552</td>\n",
       "      <td id=\"T_8ae05_row13_col3\" class=\"data row13 col3\" >0.132602</td>\n",
       "      <td id=\"T_8ae05_row13_col4\" class=\"data row13 col4\" >*</td>\n",
       "      <td id=\"T_8ae05_row13_col5\" class=\"data row13 col5\" >0.000024</td>\n",
       "    </tr>\n",
       "    <tr>\n",
       "      <td id=\"T_8ae05_row14_col0\" class=\"data row14 col0\" >15</td>\n",
       "      <td id=\"T_8ae05_row14_col1\" class=\"data row14 col1\" >torch.Size([1, 32, 16, 16])</td>\n",
       "      <td id=\"T_8ae05_row14_col2\" class=\"data row14 col2\" >0.164644</td>\n",
       "      <td id=\"T_8ae05_row14_col3\" class=\"data row14 col3\" >0.137754</td>\n",
       "      <td id=\"T_8ae05_row14_col4\" class=\"data row14 col4\" >*</td>\n",
       "      <td id=\"T_8ae05_row14_col5\" class=\"data row14 col5\" >0.000119</td>\n",
       "    </tr>\n",
       "    <tr>\n",
       "      <td id=\"T_8ae05_row15_col0\" class=\"data row15 col0\" >16</td>\n",
       "      <td id=\"T_8ae05_row15_col1\" class=\"data row15 col1\" >torch.Size([1, 32, 16, 16])</td>\n",
       "      <td id=\"T_8ae05_row15_col2\" class=\"data row15 col2\" >0.176436</td>\n",
       "      <td id=\"T_8ae05_row15_col3\" class=\"data row15 col3\" >0.144197</td>\n",
       "      <td id=\"T_8ae05_row15_col4\" class=\"data row15 col4\" >*</td>\n",
       "      <td id=\"T_8ae05_row15_col5\" class=\"data row15 col5\" >0.000366</td>\n",
       "    </tr>\n",
       "    <tr>\n",
       "      <td id=\"T_8ae05_row16_col0\" class=\"data row16 col0\" >17</td>\n",
       "      <td id=\"T_8ae05_row16_col1\" class=\"data row16 col1\" >torch.Size([1, 32, 16, 16])</td>\n",
       "      <td id=\"T_8ae05_row16_col2\" class=\"data row16 col2\" >0.187420</td>\n",
       "      <td id=\"T_8ae05_row16_col3\" class=\"data row16 col3\" >0.151466</td>\n",
       "      <td id=\"T_8ae05_row16_col4\" class=\"data row16 col4\" >*</td>\n",
       "      <td id=\"T_8ae05_row16_col5\" class=\"data row16 col5\" >0.001207</td>\n",
       "    </tr>\n",
       "    <tr>\n",
       "      <td id=\"T_8ae05_row17_col0\" class=\"data row17 col0\" >18</td>\n",
       "      <td id=\"T_8ae05_row17_col1\" class=\"data row17 col1\" >torch.Size([1, 64, 8, 8])</td>\n",
       "      <td id=\"T_8ae05_row17_col2\" class=\"data row17 col2\" >0.032228</td>\n",
       "      <td id=\"T_8ae05_row17_col3\" class=\"data row17 col3\" >0.048473</td>\n",
       "      <td id=\"T_8ae05_row17_col4\" class=\"data row17 col4\" >*</td>\n",
       "      <td id=\"T_8ae05_row17_col5\" class=\"data row17 col5\" >0.000000</td>\n",
       "    </tr>\n",
       "    <tr>\n",
       "      <td id=\"T_8ae05_row18_col0\" class=\"data row18 col0\" >19</td>\n",
       "      <td id=\"T_8ae05_row18_col1\" class=\"data row18 col1\" >torch.Size([1, 64, 8, 8])</td>\n",
       "      <td id=\"T_8ae05_row18_col2\" class=\"data row18 col2\" >0.034247</td>\n",
       "      <td id=\"T_8ae05_row18_col3\" class=\"data row18 col3\" >0.049629</td>\n",
       "      <td id=\"T_8ae05_row18_col4\" class=\"data row18 col4\" >*</td>\n",
       "      <td id=\"T_8ae05_row18_col5\" class=\"data row18 col5\" >0.004287</td>\n",
       "    </tr>\n",
       "    <tr>\n",
       "      <td id=\"T_8ae05_row19_col0\" class=\"data row19 col0\" >20</td>\n",
       "      <td id=\"T_8ae05_row19_col1\" class=\"data row19 col1\" >torch.Size([1, 64, 8, 8])</td>\n",
       "      <td id=\"T_8ae05_row19_col2\" class=\"data row19 col2\" >0.049941</td>\n",
       "      <td id=\"T_8ae05_row19_col3\" class=\"data row19 col3\" >0.070398</td>\n",
       "      <td id=\"T_8ae05_row19_col4\" class=\"data row19 col4\" >*</td>\n",
       "      <td id=\"T_8ae05_row19_col5\" class=\"data row19 col5\" >0.000000</td>\n",
       "    </tr>\n",
       "    <tr>\n",
       "      <td id=\"T_8ae05_row20_col0\" class=\"data row20 col0\" >21</td>\n",
       "      <td id=\"T_8ae05_row20_col1\" class=\"data row20 col1\" >torch.Size([1, 64, 8, 8])</td>\n",
       "      <td id=\"T_8ae05_row20_col2\" class=\"data row20 col2\" >0.231813</td>\n",
       "      <td id=\"T_8ae05_row20_col3\" class=\"data row20 col3\" >0.265218</td>\n",
       "      <td id=\"T_8ae05_row20_col4\" class=\"data row20 col4\" >*</td>\n",
       "      <td id=\"T_8ae05_row20_col5\" class=\"data row20 col5\" >0.000000</td>\n",
       "    </tr>\n",
       "    <tr>\n",
       "      <td id=\"T_8ae05_row21_col0\" class=\"data row21 col0\" >22</td>\n",
       "      <td id=\"T_8ae05_row21_col1\" class=\"data row21 col1\" >torch.Size([1, 64, 8, 8])</td>\n",
       "      <td id=\"T_8ae05_row21_col2\" class=\"data row21 col2\" >0.498418</td>\n",
       "      <td id=\"T_8ae05_row21_col3\" class=\"data row21 col3\" >0.581659</td>\n",
       "      <td id=\"T_8ae05_row21_col4\" class=\"data row21 col4\" >*</td>\n",
       "      <td id=\"T_8ae05_row21_col5\" class=\"data row21 col5\" >0.000000</td>\n",
       "    </tr>\n",
       "    <tr>\n",
       "      <td id=\"T_8ae05_row22_col0\" class=\"data row22 col0\" >23</td>\n",
       "      <td id=\"T_8ae05_row22_col1\" class=\"data row22 col1\" >torch.Size([1, 64, 8, 8])</td>\n",
       "      <td id=\"T_8ae05_row22_col2\" class=\"data row22 col2\" >0.777128</td>\n",
       "      <td id=\"T_8ae05_row22_col3\" class=\"data row22 col3\" >0.967821</td>\n",
       "      <td id=\"T_8ae05_row22_col4\" class=\"data row22 col4\" >*</td>\n",
       "      <td id=\"T_8ae05_row22_col5\" class=\"data row22 col5\" >0.000000</td>\n",
       "    </tr>\n",
       "  </tbody>\n",
       "</table>\n"
      ],
      "text/plain": [
       "<pandas.io.formats.style.Styler at 0x7519a49c68b0>"
      ]
     },
     "metadata": {},
     "output_type": "display_data"
    }
   ],
   "source": [
    "test = 'KS'\n",
    "arch = 'resnet56'\n",
    "data = 'cifar100'\n",
    "\n",
    "import time  # 加在最上面\n",
    "start_time = time.time()  # 開始時間\n",
    "\n",
    "device = torch.device(\"cpu\")\n",
    "activations_pretrained = []\n",
    "hooks_pretrained = []\n",
    "df_stats = StatTest(test=test, arch=arch, data=data)\n",
    "\n",
    "end_time = time.time()\n",
    "elapsed_time = end_time - start_time\n",
    "print(f\"\\nTotal elapsed time: {elapsed_time:.2f} seconds\")\n",
    "\n",
    "display(df_stats.style.hide(axis=\"index\"))"
   ]
  },
  {
   "cell_type": "code",
   "execution_count": 16,
   "id": "b5340aa1",
   "metadata": {},
   "outputs": [
    {
     "name": "stderr",
     "output_type": "stream",
     "text": [
      "Using cache found in /home/hsujenlung/.cache/torch/hub/chenyaofo_pytorch-cifar-models_master\n",
      "/tmp/ipykernel_201864/3649987748.py:84: FutureWarning: You are using `torch.load` with `weights_only=False` (the current default value), which uses the default pickle module implicitly. It is possible to construct malicious pickle data which will execute arbitrary code during unpickling (See https://github.com/pytorch/pytorch/blob/main/SECURITY.md#untrusted-models for more details). In a future release, the default value for `weights_only` will be flipped to `True`. This limits the functions that could be executed during unpickling. Arbitrary objects will no longer be allowed to be loaded via this mode unless they are explicitly allowlisted by the user via `torch.serialization.add_safe_globals`. We recommend you start setting `weights_only=True` for any use case where you don't have full control of the loaded file. Please open an issue on GitHub for any issues related to this experimental feature.\n",
      "  checkpoint = torch.load(path)\n",
      "Using cache found in /home/hsujenlung/.cache/torch/hub/chenyaofo_pytorch-cifar-models_master\n",
      "Using cache found in /home/hsujenlung/.cache/torch/hub/chenyaofo_pytorch-cifar-models_master\n",
      "Using cache found in /home/hsujenlung/.cache/torch/hub/chenyaofo_pytorch-cifar-models_master\n",
      "Using cache found in /home/hsujenlung/.cache/torch/hub/chenyaofo_pytorch-cifar-models_master\n"
     ]
    },
    {
     "name": "stdout",
     "output_type": "stream",
     "text": [
      "\n",
      "Summary across 5 runs:\n",
      "\n",
      "Total elapsed time: 26.90 seconds\n"
     ]
    },
    {
     "data": {
      "text/html": [
       "<style type=\"text/css\">\n",
       "</style>\n",
       "<table id=\"T_600ae\">\n",
       "  <thead>\n",
       "    <tr>\n",
       "      <th id=\"T_600ae_level0_col0\" class=\"col_heading level0 col0\" >run_index</th>\n",
       "      <th id=\"T_600ae_level0_col1\" class=\"col_heading level0 col1\" >redundant_blocks</th>\n",
       "      <th id=\"T_600ae_level0_col2\" class=\"col_heading level0 col2\" >num_redundant_blocks</th>\n",
       "    </tr>\n",
       "  </thead>\n",
       "  <tbody>\n",
       "    <tr>\n",
       "      <td id=\"T_600ae_row0_col0\" class=\"data row0 col0\" >1</td>\n",
       "      <td id=\"T_600ae_row0_col1\" class=\"data row0 col1\" >12</td>\n",
       "      <td id=\"T_600ae_row0_col2\" class=\"data row0 col2\" >1</td>\n",
       "    </tr>\n",
       "    <tr>\n",
       "      <td id=\"T_600ae_row1_col0\" class=\"data row1 col0\" >2</td>\n",
       "      <td id=\"T_600ae_row1_col1\" class=\"data row1 col1\" >12</td>\n",
       "      <td id=\"T_600ae_row1_col2\" class=\"data row1 col2\" >1</td>\n",
       "    </tr>\n",
       "    <tr>\n",
       "      <td id=\"T_600ae_row2_col0\" class=\"data row2 col0\" >3</td>\n",
       "      <td id=\"T_600ae_row2_col1\" class=\"data row2 col1\" >12</td>\n",
       "      <td id=\"T_600ae_row2_col2\" class=\"data row2 col2\" >1</td>\n",
       "    </tr>\n",
       "    <tr>\n",
       "      <td id=\"T_600ae_row3_col0\" class=\"data row3 col0\" >4</td>\n",
       "      <td id=\"T_600ae_row3_col1\" class=\"data row3 col1\" >12</td>\n",
       "      <td id=\"T_600ae_row3_col2\" class=\"data row3 col2\" >1</td>\n",
       "    </tr>\n",
       "    <tr>\n",
       "      <td id=\"T_600ae_row4_col0\" class=\"data row4 col0\" >5</td>\n",
       "      <td id=\"T_600ae_row4_col1\" class=\"data row4 col1\" >12,19</td>\n",
       "      <td id=\"T_600ae_row4_col2\" class=\"data row4 col2\" >2</td>\n",
       "    </tr>\n",
       "  </tbody>\n",
       "</table>\n"
      ],
      "text/plain": [
       "<pandas.io.formats.style.Styler at 0x7519b9d27700>"
      ]
     },
     "metadata": {},
     "output_type": "display_data"
    }
   ],
   "source": [
    "num_runs = 5\n",
    "summary_rows = []\n",
    "start_time = time.time()\n",
    "\n",
    "for run_idx in range(1, num_runs+1):\n",
    "    device = torch.device(\"cpu\")\n",
    "    activations_pretrained = []\n",
    "    hooks_pretrained = []\n",
    "    df_stats = StatTest(test=test, arch=arch, data=data)\n",
    "\n",
    "    redundant_blocks = df_stats[df_stats['p_val'] > 0.05]['block_index'].tolist()\n",
    "    redundant_blocks_str = ','.join(map(str, redundant_blocks))\n",
    "    num_redundant = len(redundant_blocks)\n",
    "    summary_rows.append([run_idx, redundant_blocks_str, num_redundant])\n",
    "\n",
    "    summary_df = pd.DataFrame(\n",
    "        summary_rows,\n",
    "        columns=['run_index', 'redundant_blocks', 'num_redundant_blocks']\n",
    "    )\n",
    "    \n",
    "print(\"\\nSummary across 5 runs:\")\n",
    "elapsed_time = time.time() - start_time\n",
    "print(f\"\\nTotal elapsed time: {elapsed_time:.2f} seconds\")\n",
    "\n",
    "display(summary_df.style.hide(axis=\"index\"))"
   ]
  },
  {
   "cell_type": "code",
   "execution_count": 6,
   "id": "c233d50a",
   "metadata": {},
   "outputs": [
    {
     "data": {
      "image/png": "[encoded data removed]",
      "text/plain": [
       "<Figure size 800x400 with 1 Axes>"
      ]
     },
     "metadata": {},
     "output_type": "display_data"
    }
   ],
   "source": [
    "import matplotlib.pyplot as plt\n",
    "# === 畫出冗餘層數分布 ===\n",
    "plt.figure(figsize=(8, 4))\n",
    "plt.hist(summary_df['num_redundant_blocks'], bins=range(0, summary_df['num_redundant_blocks'].max() + 2), align='left')\n",
    "plt.xlabel('Number of Redundant Blocks')\n",
    "plt.ylabel('Frequency')\n",
    "plt.title('Distribution of Redundant Blocks over 100 Runs')\n",
    "plt.grid(True)\n",
    "plt.show()"
   ]
  },
  {
   "cell_type": "code",
   "execution_count": 7,
   "id": "ae242d6a",
   "metadata": {},
   "outputs": [
    {
     "name": "stdout",
     "output_type": "stream",
     "text": [
      "\n",
      "冗餘層出現次數統計：\n",
      "Block 12: 1/1 runs, 100.0%\n"
     ]
    }
   ],
   "source": [
    "from collections import Counter\n",
    "\n",
    "# 把所有冗餘層編號攤平\n",
    "all_redundant_blocks = []\n",
    "for run in summary_rows:\n",
    "    blocks = run[1].split(',')\n",
    "    if blocks[0] != '':\n",
    "        all_redundant_blocks.extend(blocks)\n",
    "\n",
    "# 統計每個 block 出現幾次\n",
    "block_counts = Counter(all_redundant_blocks)\n",
    "\n",
    "# 排序後印出\n",
    "print(\"\\n冗餘層出現次數統計：\")\n",
    "for block, count in block_counts.most_common():\n",
    "    print(f\"Block {block}: {count}/{num_runs} runs, {count/num_runs:.1%}\")\n"
   ]
  },
  {
   "cell_type": "code",
   "execution_count": 8,
   "id": "3ccb58df",
   "metadata": {},
   "outputs": [
    {
     "data": {
      "image/png": "[encoded data removed]",
      "text/plain": [
       "<Figure size 1000x400 with 1 Axes>"
      ]
     },
     "metadata": {},
     "output_type": "display_data"
    }
   ],
   "source": [
    "import matplotlib.pyplot as plt\n",
    "\n",
    "blocks = list(block_counts.keys())\n",
    "counts = list(block_counts.values())\n",
    "\n",
    "plt.figure(figsize=(10, 4))\n",
    "plt.bar(blocks, counts)\n",
    "plt.xlabel('Block Index')\n",
    "plt.ylabel('Number of Times Selected as Redundant')\n",
    "plt.title(f'Redundant Block Occurrence across {num_runs} Runs')\n",
    "plt.grid(axis='y')\n",
    "plt.show()\n"
   ]
  },
  {
   "cell_type": "markdown",
   "id": "65302ca3",
   "metadata": {},
   "source": [
    "# N次裡面挑出現k次的(演算法)，這件事情做100次(驗證)"
   ]
  },
  {
   "cell_type": "code",
   "execution_count": 9,
   "id": "a57a95f8",
   "metadata": {},
   "outputs": [
    {
     "name": "stderr",
     "output_type": "stream",
     "text": [
      "Using cache found in /home/hsujenlung/.cache/torch/hub/chenyaofo_pytorch-cifar-models_master\n",
      "/tmp/ipykernel_201864/1273793000.py:82: FutureWarning: You are using `torch.load` with `weights_only=False` (the current default value), which uses the default pickle module implicitly. It is possible to construct malicious pickle data which will execute arbitrary code during unpickling (See https://github.com/pytorch/pytorch/blob/main/SECURITY.md#untrusted-models for more details). In a future release, the default value for `weights_only` will be flipped to `True`. This limits the functions that could be executed during unpickling. Arbitrary objects will no longer be allowed to be loaded via this mode unless they are explicitly allowlisted by the user via `torch.serialization.add_safe_globals`. We recommend you start setting `weights_only=True` for any use case where you don't have full control of the loaded file. Please open an issue on GitHub for any issues related to this experimental feature.\n",
      "  checkpoint = torch.load(path)\n",
      "Using cache found in /home/hsujenlung/.cache/torch/hub/chenyaofo_pytorch-cifar-models_master\n",
      "Using cache found in /home/hsujenlung/.cache/torch/hub/chenyaofo_pytorch-cifar-models_master\n",
      "Using cache found in /home/hsujenlung/.cache/torch/hub/chenyaofo_pytorch-cifar-models_master\n",
      "Using cache found in /home/hsujenlung/.cache/torch/hub/chenyaofo_pytorch-cifar-models_master\n",
      "Using cache found in /home/hsujenlung/.cache/torch/hub/chenyaofo_pytorch-cifar-models_master\n",
      "Using cache found in /home/hsujenlung/.cache/torch/hub/chenyaofo_pytorch-cifar-models_master\n",
      "Using cache found in /home/hsujenlung/.cache/torch/hub/chenyaofo_pytorch-cifar-models_master\n",
      "Using cache found in /home/hsujenlung/.cache/torch/hub/chenyaofo_pytorch-cifar-models_master\n",
      "Using cache found in /home/hsujenlung/.cache/torch/hub/chenyaofo_pytorch-cifar-models_master\n"
     ]
    },
    {
     "name": "stdout",
     "output_type": "stream",
     "text": [
      "Outer Run 1: Voted redundant blocks -> 12\n"
     ]
    },
    {
     "name": "stderr",
     "output_type": "stream",
     "text": [
      "Using cache found in /home/hsujenlung/.cache/torch/hub/chenyaofo_pytorch-cifar-models_master\n",
      "Using cache found in /home/hsujenlung/.cache/torch/hub/chenyaofo_pytorch-cifar-models_master\n",
      "Using cache found in /home/hsujenlung/.cache/torch/hub/chenyaofo_pytorch-cifar-models_master\n",
      "Using cache found in /home/hsujenlung/.cache/torch/hub/chenyaofo_pytorch-cifar-models_master\n",
      "Using cache found in /home/hsujenlung/.cache/torch/hub/chenyaofo_pytorch-cifar-models_master\n",
      "Using cache found in /home/hsujenlung/.cache/torch/hub/chenyaofo_pytorch-cifar-models_master\n",
      "Using cache found in /home/hsujenlung/.cache/torch/hub/chenyaofo_pytorch-cifar-models_master\n",
      "Using cache found in /home/hsujenlung/.cache/torch/hub/chenyaofo_pytorch-cifar-models_master\n",
      "Using cache found in /home/hsujenlung/.cache/torch/hub/chenyaofo_pytorch-cifar-models_master\n",
      "Using cache found in /home/hsujenlung/.cache/torch/hub/chenyaofo_pytorch-cifar-models_master\n"
     ]
    },
    {
     "name": "stdout",
     "output_type": "stream",
     "text": [
      "Outer Run 2: Voted redundant blocks -> 12\n"
     ]
    },
    {
     "name": "stderr",
     "output_type": "stream",
     "text": [
      "Using cache found in /home/hsujenlung/.cache/torch/hub/chenyaofo_pytorch-cifar-models_master\n",
      "Using cache found in /home/hsujenlung/.cache/torch/hub/chenyaofo_pytorch-cifar-models_master\n",
      "Using cache found in /home/hsujenlung/.cache/torch/hub/chenyaofo_pytorch-cifar-models_master\n",
      "Using cache found in /home/hsujenlung/.cache/torch/hub/chenyaofo_pytorch-cifar-models_master\n",
      "Using cache found in /home/hsujenlung/.cache/torch/hub/chenyaofo_pytorch-cifar-models_master\n",
      "Using cache found in /home/hsujenlung/.cache/torch/hub/chenyaofo_pytorch-cifar-models_master\n",
      "Using cache found in /home/hsujenlung/.cache/torch/hub/chenyaofo_pytorch-cifar-models_master\n",
      "Using cache found in /home/hsujenlung/.cache/torch/hub/chenyaofo_pytorch-cifar-models_master\n",
      "Using cache found in /home/hsujenlung/.cache/torch/hub/chenyaofo_pytorch-cifar-models_master\n",
      "Using cache found in /home/hsujenlung/.cache/torch/hub/chenyaofo_pytorch-cifar-models_master\n"
     ]
    },
    {
     "name": "stdout",
     "output_type": "stream",
     "text": [
      "Outer Run 3: Voted redundant blocks -> 12\n"
     ]
    },
    {
     "name": "stderr",
     "output_type": "stream",
     "text": [
      "Using cache found in /home/hsujenlung/.cache/torch/hub/chenyaofo_pytorch-cifar-models_master\n",
      "Using cache found in /home/hsujenlung/.cache/torch/hub/chenyaofo_pytorch-cifar-models_master\n",
      "Using cache found in /home/hsujenlung/.cache/torch/hub/chenyaofo_pytorch-cifar-models_master\n",
      "Using cache found in /home/hsujenlung/.cache/torch/hub/chenyaofo_pytorch-cifar-models_master\n",
      "Using cache found in /home/hsujenlung/.cache/torch/hub/chenyaofo_pytorch-cifar-models_master\n",
      "Using cache found in /home/hsujenlung/.cache/torch/hub/chenyaofo_pytorch-cifar-models_master\n",
      "Using cache found in /home/hsujenlung/.cache/torch/hub/chenyaofo_pytorch-cifar-models_master\n",
      "Using cache found in /home/hsujenlung/.cache/torch/hub/chenyaofo_pytorch-cifar-models_master\n",
      "Using cache found in /home/hsujenlung/.cache/torch/hub/chenyaofo_pytorch-cifar-models_master\n",
      "Using cache found in /home/hsujenlung/.cache/torch/hub/chenyaofo_pytorch-cifar-models_master\n"
     ]
    },
    {
     "name": "stdout",
     "output_type": "stream",
     "text": [
      "Outer Run 4: Voted redundant blocks -> 12\n"
     ]
    },
    {
     "name": "stderr",
     "output_type": "stream",
     "text": [
      "Using cache found in /home/hsujenlung/.cache/torch/hub/chenyaofo_pytorch-cifar-models_master\n",
      "Using cache found in /home/hsujenlung/.cache/torch/hub/chenyaofo_pytorch-cifar-models_master\n",
      "Using cache found in /home/hsujenlung/.cache/torch/hub/chenyaofo_pytorch-cifar-models_master\n",
      "Using cache found in /home/hsujenlung/.cache/torch/hub/chenyaofo_pytorch-cifar-models_master\n",
      "Using cache found in /home/hsujenlung/.cache/torch/hub/chenyaofo_pytorch-cifar-models_master\n",
      "Using cache found in /home/hsujenlung/.cache/torch/hub/chenyaofo_pytorch-cifar-models_master\n",
      "Using cache found in /home/hsujenlung/.cache/torch/hub/chenyaofo_pytorch-cifar-models_master\n",
      "Using cache found in /home/hsujenlung/.cache/torch/hub/chenyaofo_pytorch-cifar-models_master\n",
      "Using cache found in /home/hsujenlung/.cache/torch/hub/chenyaofo_pytorch-cifar-models_master\n",
      "Using cache found in /home/hsujenlung/.cache/torch/hub/chenyaofo_pytorch-cifar-models_master\n"
     ]
    },
    {
     "name": "stdout",
     "output_type": "stream",
     "text": [
      "Outer Run 5: Voted redundant blocks -> 12\n"
     ]
    },
    {
     "name": "stderr",
     "output_type": "stream",
     "text": [
      "Using cache found in /home/hsujenlung/.cache/torch/hub/chenyaofo_pytorch-cifar-models_master\n",
      "Using cache found in /home/hsujenlung/.cache/torch/hub/chenyaofo_pytorch-cifar-models_master\n",
      "Using cache found in /home/hsujenlung/.cache/torch/hub/chenyaofo_pytorch-cifar-models_master\n",
      "Using cache found in /home/hsujenlung/.cache/torch/hub/chenyaofo_pytorch-cifar-models_master\n",
      "Using cache found in /home/hsujenlung/.cache/torch/hub/chenyaofo_pytorch-cifar-models_master\n",
      "Using cache found in /home/hsujenlung/.cache/torch/hub/chenyaofo_pytorch-cifar-models_master\n",
      "Using cache found in /home/hsujenlung/.cache/torch/hub/chenyaofo_pytorch-cifar-models_master\n",
      "Using cache found in /home/hsujenlung/.cache/torch/hub/chenyaofo_pytorch-cifar-models_master\n",
      "Using cache found in /home/hsujenlung/.cache/torch/hub/chenyaofo_pytorch-cifar-models_master\n",
      "Using cache found in /home/hsujenlung/.cache/torch/hub/chenyaofo_pytorch-cifar-models_master\n"
     ]
    },
    {
     "name": "stdout",
     "output_type": "stream",
     "text": [
      "Outer Run 6: Voted redundant blocks -> 12\n"
     ]
    },
    {
     "name": "stderr",
     "output_type": "stream",
     "text": [
      "Using cache found in /home/hsujenlung/.cache/torch/hub/chenyaofo_pytorch-cifar-models_master\n",
      "Using cache found in /home/hsujenlung/.cache/torch/hub/chenyaofo_pytorch-cifar-models_master\n",
      "Using cache found in /home/hsujenlung/.cache/torch/hub/chenyaofo_pytorch-cifar-models_master\n",
      "Using cache found in /home/hsujenlung/.cache/torch/hub/chenyaofo_pytorch-cifar-models_master\n",
      "Using cache found in /home/hsujenlung/.cache/torch/hub/chenyaofo_pytorch-cifar-models_master\n",
      "Using cache found in /home/hsujenlung/.cache/torch/hub/chenyaofo_pytorch-cifar-models_master\n",
      "Using cache found in /home/hsujenlung/.cache/torch/hub/chenyaofo_pytorch-cifar-models_master\n",
      "Using cache found in /home/hsujenlung/.cache/torch/hub/chenyaofo_pytorch-cifar-models_master\n",
      "Using cache found in /home/hsujenlung/.cache/torch/hub/chenyaofo_pytorch-cifar-models_master\n",
      "Using cache found in /home/hsujenlung/.cache/torch/hub/chenyaofo_pytorch-cifar-models_master\n"
     ]
    },
    {
     "name": "stdout",
     "output_type": "stream",
     "text": [
      "Outer Run 7: Voted redundant blocks -> 12\n"
     ]
    },
    {
     "name": "stderr",
     "output_type": "stream",
     "text": [
      "Using cache found in /home/hsujenlung/.cache/torch/hub/chenyaofo_pytorch-cifar-models_master\n",
      "Using cache found in /home/hsujenlung/.cache/torch/hub/chenyaofo_pytorch-cifar-models_master\n",
      "Using cache found in /home/hsujenlung/.cache/torch/hub/chenyaofo_pytorch-cifar-models_master\n",
      "Using cache found in /home/hsujenlung/.cache/torch/hub/chenyaofo_pytorch-cifar-models_master\n",
      "Using cache found in /home/hsujenlung/.cache/torch/hub/chenyaofo_pytorch-cifar-models_master\n",
      "Using cache found in /home/hsujenlung/.cache/torch/hub/chenyaofo_pytorch-cifar-models_master\n",
      "Using cache found in /home/hsujenlung/.cache/torch/hub/chenyaofo_pytorch-cifar-models_master\n",
      "Using cache found in /home/hsujenlung/.cache/torch/hub/chenyaofo_pytorch-cifar-models_master\n",
      "Using cache found in /home/hsujenlung/.cache/torch/hub/chenyaofo_pytorch-cifar-models_master\n",
      "Using cache found in /home/hsujenlung/.cache/torch/hub/chenyaofo_pytorch-cifar-models_master\n"
     ]
    },
    {
     "name": "stdout",
     "output_type": "stream",
     "text": [
      "Outer Run 8: Voted redundant blocks -> 12\n"
     ]
    },
    {
     "name": "stderr",
     "output_type": "stream",
     "text": [
      "Using cache found in /home/hsujenlung/.cache/torch/hub/chenyaofo_pytorch-cifar-models_master\n",
      "Using cache found in /home/hsujenlung/.cache/torch/hub/chenyaofo_pytorch-cifar-models_master\n",
      "Using cache found in /home/hsujenlung/.cache/torch/hub/chenyaofo_pytorch-cifar-models_master\n",
      "Using cache found in /home/hsujenlung/.cache/torch/hub/chenyaofo_pytorch-cifar-models_master\n",
      "Using cache found in /home/hsujenlung/.cache/torch/hub/chenyaofo_pytorch-cifar-models_master\n",
      "Using cache found in /home/hsujenlung/.cache/torch/hub/chenyaofo_pytorch-cifar-models_master\n",
      "Using cache found in /home/hsujenlung/.cache/torch/hub/chenyaofo_pytorch-cifar-models_master\n",
      "Using cache found in /home/hsujenlung/.cache/torch/hub/chenyaofo_pytorch-cifar-models_master\n",
      "Using cache found in /home/hsujenlung/.cache/torch/hub/chenyaofo_pytorch-cifar-models_master\n",
      "Using cache found in /home/hsujenlung/.cache/torch/hub/chenyaofo_pytorch-cifar-models_master\n"
     ]
    },
    {
     "name": "stdout",
     "output_type": "stream",
     "text": [
      "Outer Run 9: Voted redundant blocks -> 12\n"
     ]
    },
    {
     "name": "stderr",
     "output_type": "stream",
     "text": [
      "Using cache found in /home/hsujenlung/.cache/torch/hub/chenyaofo_pytorch-cifar-models_master\n",
      "Using cache found in /home/hsujenlung/.cache/torch/hub/chenyaofo_pytorch-cifar-models_master\n",
      "Using cache found in /home/hsujenlung/.cache/torch/hub/chenyaofo_pytorch-cifar-models_master\n",
      "Using cache found in /home/hsujenlung/.cache/torch/hub/chenyaofo_pytorch-cifar-models_master\n",
      "Using cache found in /home/hsujenlung/.cache/torch/hub/chenyaofo_pytorch-cifar-models_master\n",
      "Using cache found in /home/hsujenlung/.cache/torch/hub/chenyaofo_pytorch-cifar-models_master\n",
      "Using cache found in /home/hsujenlung/.cache/torch/hub/chenyaofo_pytorch-cifar-models_master\n",
      "Using cache found in /home/hsujenlung/.cache/torch/hub/chenyaofo_pytorch-cifar-models_master\n",
      "Using cache found in /home/hsujenlung/.cache/torch/hub/chenyaofo_pytorch-cifar-models_master\n",
      "Using cache found in /home/hsujenlung/.cache/torch/hub/chenyaofo_pytorch-cifar-models_master\n"
     ]
    },
    {
     "name": "stdout",
     "output_type": "stream",
     "text": [
      "Outer Run 10: Voted redundant blocks -> 12\n"
     ]
    },
    {
     "name": "stderr",
     "output_type": "stream",
     "text": [
      "Using cache found in /home/hsujenlung/.cache/torch/hub/chenyaofo_pytorch-cifar-models_master\n",
      "Using cache found in /home/hsujenlung/.cache/torch/hub/chenyaofo_pytorch-cifar-models_master\n",
      "Using cache found in /home/hsujenlung/.cache/torch/hub/chenyaofo_pytorch-cifar-models_master\n",
      "Using cache found in /home/hsujenlung/.cache/torch/hub/chenyaofo_pytorch-cifar-models_master\n",
      "Using cache found in /home/hsujenlung/.cache/torch/hub/chenyaofo_pytorch-cifar-models_master\n",
      "Using cache found in /home/hsujenlung/.cache/torch/hub/chenyaofo_pytorch-cifar-models_master\n",
      "Using cache found in /home/hsujenlung/.cache/torch/hub/chenyaofo_pytorch-cifar-models_master\n",
      "Using cache found in /home/hsujenlung/.cache/torch/hub/chenyaofo_pytorch-cifar-models_master\n",
      "Using cache found in /home/hsujenlung/.cache/torch/hub/chenyaofo_pytorch-cifar-models_master\n",
      "Using cache found in /home/hsujenlung/.cache/torch/hub/chenyaofo_pytorch-cifar-models_master\n"
     ]
    },
    {
     "name": "stdout",
     "output_type": "stream",
     "text": [
      "Outer Run 11: Voted redundant blocks -> 12\n"
     ]
    },
    {
     "name": "stderr",
     "output_type": "stream",
     "text": [
      "Using cache found in /home/hsujenlung/.cache/torch/hub/chenyaofo_pytorch-cifar-models_master\n",
      "Using cache found in /home/hsujenlung/.cache/torch/hub/chenyaofo_pytorch-cifar-models_master\n",
      "Using cache found in /home/hsujenlung/.cache/torch/hub/chenyaofo_pytorch-cifar-models_master\n",
      "Using cache found in /home/hsujenlung/.cache/torch/hub/chenyaofo_pytorch-cifar-models_master\n",
      "Using cache found in /home/hsujenlung/.cache/torch/hub/chenyaofo_pytorch-cifar-models_master\n",
      "Using cache found in /home/hsujenlung/.cache/torch/hub/chenyaofo_pytorch-cifar-models_master\n",
      "Using cache found in /home/hsujenlung/.cache/torch/hub/chenyaofo_pytorch-cifar-models_master\n",
      "Using cache found in /home/hsujenlung/.cache/torch/hub/chenyaofo_pytorch-cifar-models_master\n",
      "Using cache found in /home/hsujenlung/.cache/torch/hub/chenyaofo_pytorch-cifar-models_master\n",
      "Using cache found in /home/hsujenlung/.cache/torch/hub/chenyaofo_pytorch-cifar-models_master\n"
     ]
    },
    {
     "name": "stdout",
     "output_type": "stream",
     "text": [
      "Outer Run 12: Voted redundant blocks -> 12\n"
     ]
    },
    {
     "name": "stderr",
     "output_type": "stream",
     "text": [
      "Using cache found in /home/hsujenlung/.cache/torch/hub/chenyaofo_pytorch-cifar-models_master\n",
      "Using cache found in /home/hsujenlung/.cache/torch/hub/chenyaofo_pytorch-cifar-models_master\n",
      "Using cache found in /home/hsujenlung/.cache/torch/hub/chenyaofo_pytorch-cifar-models_master\n",
      "Using cache found in /home/hsujenlung/.cache/torch/hub/chenyaofo_pytorch-cifar-models_master\n",
      "Using cache found in /home/hsujenlung/.cache/torch/hub/chenyaofo_pytorch-cifar-models_master\n",
      "Using cache found in /home/hsujenlung/.cache/torch/hub/chenyaofo_pytorch-cifar-models_master\n",
      "Using cache found in /home/hsujenlung/.cache/torch/hub/chenyaofo_pytorch-cifar-models_master\n",
      "Using cache found in /home/hsujenlung/.cache/torch/hub/chenyaofo_pytorch-cifar-models_master\n",
      "Using cache found in /home/hsujenlung/.cache/torch/hub/chenyaofo_pytorch-cifar-models_master\n",
      "Using cache found in /home/hsujenlung/.cache/torch/hub/chenyaofo_pytorch-cifar-models_master\n"
     ]
    },
    {
     "name": "stdout",
     "output_type": "stream",
     "text": [
      "Outer Run 13: Voted redundant blocks -> 12\n"
     ]
    },
    {
     "ename": "RemoteDisconnected",
     "evalue": "Remote end closed connection without response",
     "output_type": "error",
     "traceback": [
      "\u001b[0;31m---------------------------------------------------------------------------\u001b[0m",
      "\u001b[0;31mRemoteDisconnected\u001b[0m                        Traceback (most recent call last)",
      "Cell \u001b[0;32mIn[9], line 16\u001b[0m\n\u001b[1;32m     13\u001b[0m all_blocks_this_outer \u001b[38;5;241m=\u001b[39m []\n\u001b[1;32m     15\u001b[0m \u001b[38;5;28;01mfor\u001b[39;00m inner_idx \u001b[38;5;129;01min\u001b[39;00m \u001b[38;5;28mrange\u001b[39m(num_inner_runs):\n\u001b[0;32m---> 16\u001b[0m     df_stats \u001b[38;5;241m=\u001b[39m \u001b[43mStatTest\u001b[49m\u001b[43m(\u001b[49m\u001b[43mtest\u001b[49m\u001b[38;5;241;43m=\u001b[39;49m\u001b[43mtest\u001b[49m\u001b[43m,\u001b[49m\u001b[43m \u001b[49m\u001b[43march\u001b[49m\u001b[38;5;241;43m=\u001b[39;49m\u001b[43march\u001b[49m\u001b[43m,\u001b[49m\u001b[43m \u001b[49m\u001b[43mdata\u001b[49m\u001b[38;5;241;43m=\u001b[39;49m\u001b[43mdata\u001b[49m\u001b[43m)\u001b[49m\n\u001b[1;32m     17\u001b[0m     redundant_blocks \u001b[38;5;241m=\u001b[39m df_stats[df_stats[\u001b[38;5;124m'\u001b[39m\u001b[38;5;124mp_val\u001b[39m\u001b[38;5;124m'\u001b[39m] \u001b[38;5;241m>\u001b[39m \u001b[38;5;241m0.05\u001b[39m][\u001b[38;5;124m'\u001b[39m\u001b[38;5;124mblock_index\u001b[39m\u001b[38;5;124m'\u001b[39m]\u001b[38;5;241m.\u001b[39mtolist()\n\u001b[1;32m     18\u001b[0m     all_blocks_this_outer\u001b[38;5;241m.\u001b[39mextend(redundant_blocks)\n",
      "Cell \u001b[0;32mIn[3], line 106\u001b[0m, in \u001b[0;36mStatTest\u001b[0;34m(test, arch, data)\u001b[0m\n\u001b[1;32m    103\u001b[0m \u001b[38;5;28;01mdef\u001b[39;00m \u001b[38;5;21mStatTest\u001b[39m(test, arch, data):\n\u001b[1;32m    104\u001b[0m \n\u001b[1;32m    105\u001b[0m     \u001b[38;5;66;03m# 獲取預訓練權重的激活\u001b[39;00m\n\u001b[0;32m--> 106\u001b[0m     pretrained_model \u001b[38;5;241m=\u001b[39m \u001b[43mload_pretrained_model\u001b[49m\u001b[43m(\u001b[49m\u001b[43mtest\u001b[49m\u001b[38;5;241;43m=\u001b[39;49m\u001b[43m \u001b[49m\u001b[43mtest\u001b[49m\u001b[43m,\u001b[49m\u001b[43m \u001b[49m\u001b[43march\u001b[49m\u001b[38;5;241;43m=\u001b[39;49m\u001b[43march\u001b[49m\u001b[43m,\u001b[49m\u001b[43mdata\u001b[49m\u001b[38;5;241;43m=\u001b[39;49m\u001b[43mdata\u001b[49m\u001b[43m)\u001b[49m\n\u001b[1;32m    107\u001b[0m     get_activations_from_model(pretrained_model, hook_fn_pretrained, hooks_pretrained)\n\u001b[1;32m    108\u001b[0m     activations_pretrained_copy \u001b[38;5;241m=\u001b[39m activations_pretrained\u001b[38;5;241m.\u001b[39mcopy()  \u001b[38;5;66;03m# 儲存預訓練的激活\u001b[39;00m\n",
      "Cell \u001b[0;32mIn[3], line 56\u001b[0m, in \u001b[0;36mload_pretrained_model\u001b[0;34m(test, arch, data)\u001b[0m\n\u001b[1;32m     54\u001b[0m \u001b[38;5;28;01mimport\u001b[39;00m \u001b[38;5;21;01mresnet_cifar100\u001b[39;00m\n\u001b[1;32m     55\u001b[0m \u001b[38;5;28;01mif\u001b[39;00m arch \u001b[38;5;241m==\u001b[39m \u001b[38;5;124m'\u001b[39m\u001b[38;5;124mresnet56\u001b[39m\u001b[38;5;124m'\u001b[39m:\n\u001b[0;32m---> 56\u001b[0m     model \u001b[38;5;241m=\u001b[39m \u001b[43mtorch\u001b[49m\u001b[38;5;241;43m.\u001b[39;49m\u001b[43mhub\u001b[49m\u001b[38;5;241;43m.\u001b[39;49m\u001b[43mload\u001b[49m\u001b[43m(\u001b[49m\u001b[38;5;124;43m\"\u001b[39;49m\u001b[38;5;124;43mchenyaofo/pytorch-cifar-models\u001b[39;49m\u001b[38;5;124;43m\"\u001b[39;49m\u001b[43m,\u001b[49m\u001b[43m \u001b[49m\u001b[38;5;124;43m\"\u001b[39;49m\u001b[38;5;124;43mcifar100_resnet56\u001b[39;49m\u001b[38;5;124;43m\"\u001b[39;49m\u001b[43m,\u001b[49m\u001b[43m \u001b[49m\u001b[43mpretrained\u001b[49m\u001b[38;5;241;43m=\u001b[39;49m\u001b[38;5;28;43;01mTrue\u001b[39;49;00m\u001b[43m)\u001b[49m\n\u001b[1;32m     58\u001b[0m     \u001b[38;5;28;01mif\u001b[39;00m test \u001b[38;5;241m==\u001b[39m \u001b[38;5;124m'\u001b[39m\u001b[38;5;124mMW\u001b[39m\u001b[38;5;124m'\u001b[39m:\n\u001b[1;32m     59\u001b[0m         \u001b[38;5;28;01mpass\u001b[39;00m\n",
      "File \u001b[0;32m~/miniconda3/envs/Roy/lib/python3.8/site-packages/torch/hub.py:567\u001b[0m, in \u001b[0;36mload\u001b[0;34m(repo_or_dir, model, source, trust_repo, force_reload, verbose, skip_validation, *args, **kwargs)\u001b[0m\n\u001b[1;32m    563\u001b[0m     \u001b[38;5;28;01mraise\u001b[39;00m \u001b[38;5;167;01mValueError\u001b[39;00m(\n\u001b[1;32m    564\u001b[0m         \u001b[38;5;124mf\u001b[39m\u001b[38;5;124m'\u001b[39m\u001b[38;5;124mUnknown source: \u001b[39m\u001b[38;5;124m\"\u001b[39m\u001b[38;5;132;01m{\u001b[39;00msource\u001b[38;5;132;01m}\u001b[39;00m\u001b[38;5;124m\"\u001b[39m\u001b[38;5;124m. Allowed values: \u001b[39m\u001b[38;5;124m\"\u001b[39m\u001b[38;5;124mgithub\u001b[39m\u001b[38;5;124m\"\u001b[39m\u001b[38;5;124m | \u001b[39m\u001b[38;5;124m\"\u001b[39m\u001b[38;5;124mlocal\u001b[39m\u001b[38;5;124m\"\u001b[39m\u001b[38;5;124m.\u001b[39m\u001b[38;5;124m'\u001b[39m)\n\u001b[1;32m    566\u001b[0m \u001b[38;5;28;01mif\u001b[39;00m source \u001b[38;5;241m==\u001b[39m \u001b[38;5;124m'\u001b[39m\u001b[38;5;124mgithub\u001b[39m\u001b[38;5;124m'\u001b[39m:\n\u001b[0;32m--> 567\u001b[0m     repo_or_dir \u001b[38;5;241m=\u001b[39m \u001b[43m_get_cache_or_reload\u001b[49m\u001b[43m(\u001b[49m\u001b[43mrepo_or_dir\u001b[49m\u001b[43m,\u001b[49m\u001b[43m \u001b[49m\u001b[43mforce_reload\u001b[49m\u001b[43m,\u001b[49m\u001b[43m \u001b[49m\u001b[43mtrust_repo\u001b[49m\u001b[43m,\u001b[49m\u001b[43m \u001b[49m\u001b[38;5;124;43m\"\u001b[39;49m\u001b[38;5;124;43mload\u001b[39;49m\u001b[38;5;124;43m\"\u001b[39;49m\u001b[43m,\u001b[49m\n\u001b[1;32m    568\u001b[0m \u001b[43m                                       \u001b[49m\u001b[43mverbose\u001b[49m\u001b[38;5;241;43m=\u001b[39;49m\u001b[43mverbose\u001b[49m\u001b[43m,\u001b[49m\u001b[43m \u001b[49m\u001b[43mskip_validation\u001b[49m\u001b[38;5;241;43m=\u001b[39;49m\u001b[43mskip_validation\u001b[49m\u001b[43m)\u001b[49m\n\u001b[1;32m    570\u001b[0m model \u001b[38;5;241m=\u001b[39m _load_local(repo_or_dir, model, \u001b[38;5;241m*\u001b[39margs, \u001b[38;5;241m*\u001b[39m\u001b[38;5;241m*\u001b[39mkwargs)\n\u001b[1;32m    571\u001b[0m \u001b[38;5;28;01mreturn\u001b[39;00m model\n",
      "File \u001b[0;32m~/miniconda3/envs/Roy/lib/python3.8/site-packages/torch/hub.py:208\u001b[0m, in \u001b[0;36m_get_cache_or_reload\u001b[0;34m(github, force_reload, trust_repo, calling_fn, verbose, skip_validation)\u001b[0m\n\u001b[1;32m    206\u001b[0m os\u001b[38;5;241m.\u001b[39mmakedirs(hub_dir, exist_ok\u001b[38;5;241m=\u001b[39m\u001b[38;5;28;01mTrue\u001b[39;00m)\n\u001b[1;32m    207\u001b[0m \u001b[38;5;66;03m# Parse github repo information\u001b[39;00m\n\u001b[0;32m--> 208\u001b[0m repo_owner, repo_name, ref \u001b[38;5;241m=\u001b[39m \u001b[43m_parse_repo_info\u001b[49m\u001b[43m(\u001b[49m\u001b[43mgithub\u001b[49m\u001b[43m)\u001b[49m\n\u001b[1;32m    209\u001b[0m \u001b[38;5;66;03m# Github allows branch name with slash '/',\u001b[39;00m\n\u001b[1;32m    210\u001b[0m \u001b[38;5;66;03m# this causes confusion with path on both Linux and Windows.\u001b[39;00m\n\u001b[1;32m    211\u001b[0m \u001b[38;5;66;03m# Backslash is not allowed in Github branch name so no need to\u001b[39;00m\n\u001b[1;32m    212\u001b[0m \u001b[38;5;66;03m# to worry about it.\u001b[39;00m\n\u001b[1;32m    213\u001b[0m normalized_br \u001b[38;5;241m=\u001b[39m ref\u001b[38;5;241m.\u001b[39mreplace(\u001b[38;5;124m'\u001b[39m\u001b[38;5;124m/\u001b[39m\u001b[38;5;124m'\u001b[39m, \u001b[38;5;124m'\u001b[39m\u001b[38;5;124m_\u001b[39m\u001b[38;5;124m'\u001b[39m)\n",
      "File \u001b[0;32m~/miniconda3/envs/Roy/lib/python3.8/site-packages/torch/hub.py:152\u001b[0m, in \u001b[0;36m_parse_repo_info\u001b[0;34m(github)\u001b[0m\n\u001b[1;32m    147\u001b[0m \u001b[38;5;28;01mif\u001b[39;00m ref \u001b[38;5;129;01mis\u001b[39;00m \u001b[38;5;28;01mNone\u001b[39;00m:\n\u001b[1;32m    148\u001b[0m     \u001b[38;5;66;03m# The ref wasn't specified by the user, so we need to figure out the\u001b[39;00m\n\u001b[1;32m    149\u001b[0m     \u001b[38;5;66;03m# default branch: main or master. Our assumption is that if main exists\u001b[39;00m\n\u001b[1;32m    150\u001b[0m     \u001b[38;5;66;03m# then it's the default branch, otherwise it's master.\u001b[39;00m\n\u001b[1;32m    151\u001b[0m     \u001b[38;5;28;01mtry\u001b[39;00m:\n\u001b[0;32m--> 152\u001b[0m         \u001b[38;5;28;01mwith\u001b[39;00m \u001b[43murlopen\u001b[49m\u001b[43m(\u001b[49m\u001b[38;5;124;43mf\u001b[39;49m\u001b[38;5;124;43m\"\u001b[39;49m\u001b[38;5;124;43mhttps://github.com/\u001b[39;49m\u001b[38;5;132;43;01m{\u001b[39;49;00m\u001b[43mrepo_owner\u001b[49m\u001b[38;5;132;43;01m}\u001b[39;49;00m\u001b[38;5;124;43m/\u001b[39;49m\u001b[38;5;132;43;01m{\u001b[39;49;00m\u001b[43mrepo_name\u001b[49m\u001b[38;5;132;43;01m}\u001b[39;49;00m\u001b[38;5;124;43m/tree/main/\u001b[39;49m\u001b[38;5;124;43m\"\u001b[39;49m\u001b[43m)\u001b[49m:\n\u001b[1;32m    153\u001b[0m             ref \u001b[38;5;241m=\u001b[39m \u001b[38;5;124m'\u001b[39m\u001b[38;5;124mmain\u001b[39m\u001b[38;5;124m'\u001b[39m\n\u001b[1;32m    154\u001b[0m     \u001b[38;5;28;01mexcept\u001b[39;00m HTTPError \u001b[38;5;28;01mas\u001b[39;00m e:\n",
      "File \u001b[0;32m~/miniconda3/envs/Roy/lib/python3.8/urllib/request.py:222\u001b[0m, in \u001b[0;36murlopen\u001b[0;34m(url, data, timeout, cafile, capath, cadefault, context)\u001b[0m\n\u001b[1;32m    220\u001b[0m \u001b[38;5;28;01melse\u001b[39;00m:\n\u001b[1;32m    221\u001b[0m     opener \u001b[38;5;241m=\u001b[39m _opener\n\u001b[0;32m--> 222\u001b[0m \u001b[38;5;28;01mreturn\u001b[39;00m \u001b[43mopener\u001b[49m\u001b[38;5;241;43m.\u001b[39;49m\u001b[43mopen\u001b[49m\u001b[43m(\u001b[49m\u001b[43murl\u001b[49m\u001b[43m,\u001b[49m\u001b[43m \u001b[49m\u001b[43mdata\u001b[49m\u001b[43m,\u001b[49m\u001b[43m \u001b[49m\u001b[43mtimeout\u001b[49m\u001b[43m)\u001b[49m\n",
      "File \u001b[0;32m~/miniconda3/envs/Roy/lib/python3.8/urllib/request.py:525\u001b[0m, in \u001b[0;36mOpenerDirector.open\u001b[0;34m(self, fullurl, data, timeout)\u001b[0m\n\u001b[1;32m    522\u001b[0m     req \u001b[38;5;241m=\u001b[39m meth(req)\n\u001b[1;32m    524\u001b[0m sys\u001b[38;5;241m.\u001b[39maudit(\u001b[38;5;124m'\u001b[39m\u001b[38;5;124murllib.Request\u001b[39m\u001b[38;5;124m'\u001b[39m, req\u001b[38;5;241m.\u001b[39mfull_url, req\u001b[38;5;241m.\u001b[39mdata, req\u001b[38;5;241m.\u001b[39mheaders, req\u001b[38;5;241m.\u001b[39mget_method())\n\u001b[0;32m--> 525\u001b[0m response \u001b[38;5;241m=\u001b[39m \u001b[38;5;28;43mself\u001b[39;49m\u001b[38;5;241;43m.\u001b[39;49m\u001b[43m_open\u001b[49m\u001b[43m(\u001b[49m\u001b[43mreq\u001b[49m\u001b[43m,\u001b[49m\u001b[43m \u001b[49m\u001b[43mdata\u001b[49m\u001b[43m)\u001b[49m\n\u001b[1;32m    527\u001b[0m \u001b[38;5;66;03m# post-process response\u001b[39;00m\n\u001b[1;32m    528\u001b[0m meth_name \u001b[38;5;241m=\u001b[39m protocol\u001b[38;5;241m+\u001b[39m\u001b[38;5;124m\"\u001b[39m\u001b[38;5;124m_response\u001b[39m\u001b[38;5;124m\"\u001b[39m\n",
      "File \u001b[0;32m~/miniconda3/envs/Roy/lib/python3.8/urllib/request.py:542\u001b[0m, in \u001b[0;36mOpenerDirector._open\u001b[0;34m(self, req, data)\u001b[0m\n\u001b[1;32m    539\u001b[0m     \u001b[38;5;28;01mreturn\u001b[39;00m result\n\u001b[1;32m    541\u001b[0m protocol \u001b[38;5;241m=\u001b[39m req\u001b[38;5;241m.\u001b[39mtype\n\u001b[0;32m--> 542\u001b[0m result \u001b[38;5;241m=\u001b[39m \u001b[38;5;28;43mself\u001b[39;49m\u001b[38;5;241;43m.\u001b[39;49m\u001b[43m_call_chain\u001b[49m\u001b[43m(\u001b[49m\u001b[38;5;28;43mself\u001b[39;49m\u001b[38;5;241;43m.\u001b[39;49m\u001b[43mhandle_open\u001b[49m\u001b[43m,\u001b[49m\u001b[43m \u001b[49m\u001b[43mprotocol\u001b[49m\u001b[43m,\u001b[49m\u001b[43m \u001b[49m\u001b[43mprotocol\u001b[49m\u001b[43m \u001b[49m\u001b[38;5;241;43m+\u001b[39;49m\n\u001b[1;32m    543\u001b[0m \u001b[43m                          \u001b[49m\u001b[38;5;124;43m'\u001b[39;49m\u001b[38;5;124;43m_open\u001b[39;49m\u001b[38;5;124;43m'\u001b[39;49m\u001b[43m,\u001b[49m\u001b[43m \u001b[49m\u001b[43mreq\u001b[49m\u001b[43m)\u001b[49m\n\u001b[1;32m    544\u001b[0m \u001b[38;5;28;01mif\u001b[39;00m result:\n\u001b[1;32m    545\u001b[0m     \u001b[38;5;28;01mreturn\u001b[39;00m result\n",
      "File \u001b[0;32m~/miniconda3/envs/Roy/lib/python3.8/urllib/request.py:502\u001b[0m, in \u001b[0;36mOpenerDirector._call_chain\u001b[0;34m(self, chain, kind, meth_name, *args)\u001b[0m\n\u001b[1;32m    500\u001b[0m \u001b[38;5;28;01mfor\u001b[39;00m handler \u001b[38;5;129;01min\u001b[39;00m handlers:\n\u001b[1;32m    501\u001b[0m     func \u001b[38;5;241m=\u001b[39m \u001b[38;5;28mgetattr\u001b[39m(handler, meth_name)\n\u001b[0;32m--> 502\u001b[0m     result \u001b[38;5;241m=\u001b[39m \u001b[43mfunc\u001b[49m\u001b[43m(\u001b[49m\u001b[38;5;241;43m*\u001b[39;49m\u001b[43margs\u001b[49m\u001b[43m)\u001b[49m\n\u001b[1;32m    503\u001b[0m     \u001b[38;5;28;01mif\u001b[39;00m result \u001b[38;5;129;01mis\u001b[39;00m \u001b[38;5;129;01mnot\u001b[39;00m \u001b[38;5;28;01mNone\u001b[39;00m:\n\u001b[1;32m    504\u001b[0m         \u001b[38;5;28;01mreturn\u001b[39;00m result\n",
      "File \u001b[0;32m~/miniconda3/envs/Roy/lib/python3.8/urllib/request.py:1397\u001b[0m, in \u001b[0;36mHTTPSHandler.https_open\u001b[0;34m(self, req)\u001b[0m\n\u001b[1;32m   1396\u001b[0m \u001b[38;5;28;01mdef\u001b[39;00m \u001b[38;5;21mhttps_open\u001b[39m(\u001b[38;5;28mself\u001b[39m, req):\n\u001b[0;32m-> 1397\u001b[0m     \u001b[38;5;28;01mreturn\u001b[39;00m \u001b[38;5;28;43mself\u001b[39;49m\u001b[38;5;241;43m.\u001b[39;49m\u001b[43mdo_open\u001b[49m\u001b[43m(\u001b[49m\u001b[43mhttp\u001b[49m\u001b[38;5;241;43m.\u001b[39;49m\u001b[43mclient\u001b[49m\u001b[38;5;241;43m.\u001b[39;49m\u001b[43mHTTPSConnection\u001b[49m\u001b[43m,\u001b[49m\u001b[43m \u001b[49m\u001b[43mreq\u001b[49m\u001b[43m,\u001b[49m\n\u001b[1;32m   1398\u001b[0m \u001b[43m        \u001b[49m\u001b[43mcontext\u001b[49m\u001b[38;5;241;43m=\u001b[39;49m\u001b[38;5;28;43mself\u001b[39;49m\u001b[38;5;241;43m.\u001b[39;49m\u001b[43m_context\u001b[49m\u001b[43m,\u001b[49m\u001b[43m \u001b[49m\u001b[43mcheck_hostname\u001b[49m\u001b[38;5;241;43m=\u001b[39;49m\u001b[38;5;28;43mself\u001b[39;49m\u001b[38;5;241;43m.\u001b[39;49m\u001b[43m_check_hostname\u001b[49m\u001b[43m)\u001b[49m\n",
      "File \u001b[0;32m~/miniconda3/envs/Roy/lib/python3.8/urllib/request.py:1358\u001b[0m, in \u001b[0;36mAbstractHTTPHandler.do_open\u001b[0;34m(self, http_class, req, **http_conn_args)\u001b[0m\n\u001b[1;32m   1356\u001b[0m     \u001b[38;5;28;01mexcept\u001b[39;00m \u001b[38;5;167;01mOSError\u001b[39;00m \u001b[38;5;28;01mas\u001b[39;00m err: \u001b[38;5;66;03m# timeout error\u001b[39;00m\n\u001b[1;32m   1357\u001b[0m         \u001b[38;5;28;01mraise\u001b[39;00m URLError(err)\n\u001b[0;32m-> 1358\u001b[0m     r \u001b[38;5;241m=\u001b[39m \u001b[43mh\u001b[49m\u001b[38;5;241;43m.\u001b[39;49m\u001b[43mgetresponse\u001b[49m\u001b[43m(\u001b[49m\u001b[43m)\u001b[49m\n\u001b[1;32m   1359\u001b[0m \u001b[38;5;28;01mexcept\u001b[39;00m:\n\u001b[1;32m   1360\u001b[0m     h\u001b[38;5;241m.\u001b[39mclose()\n",
      "File \u001b[0;32m~/miniconda3/envs/Roy/lib/python3.8/http/client.py:1348\u001b[0m, in \u001b[0;36mHTTPConnection.getresponse\u001b[0;34m(self)\u001b[0m\n\u001b[1;32m   1346\u001b[0m \u001b[38;5;28;01mtry\u001b[39;00m:\n\u001b[1;32m   1347\u001b[0m     \u001b[38;5;28;01mtry\u001b[39;00m:\n\u001b[0;32m-> 1348\u001b[0m         \u001b[43mresponse\u001b[49m\u001b[38;5;241;43m.\u001b[39;49m\u001b[43mbegin\u001b[49m\u001b[43m(\u001b[49m\u001b[43m)\u001b[49m\n\u001b[1;32m   1349\u001b[0m     \u001b[38;5;28;01mexcept\u001b[39;00m \u001b[38;5;167;01mConnectionError\u001b[39;00m:\n\u001b[1;32m   1350\u001b[0m         \u001b[38;5;28mself\u001b[39m\u001b[38;5;241m.\u001b[39mclose()\n",
      "File \u001b[0;32m~/miniconda3/envs/Roy/lib/python3.8/http/client.py:316\u001b[0m, in \u001b[0;36mHTTPResponse.begin\u001b[0;34m(self)\u001b[0m\n\u001b[1;32m    314\u001b[0m \u001b[38;5;66;03m# read until we get a non-100 response\u001b[39;00m\n\u001b[1;32m    315\u001b[0m \u001b[38;5;28;01mwhile\u001b[39;00m \u001b[38;5;28;01mTrue\u001b[39;00m:\n\u001b[0;32m--> 316\u001b[0m     version, status, reason \u001b[38;5;241m=\u001b[39m \u001b[38;5;28;43mself\u001b[39;49m\u001b[38;5;241;43m.\u001b[39;49m\u001b[43m_read_status\u001b[49m\u001b[43m(\u001b[49m\u001b[43m)\u001b[49m\n\u001b[1;32m    317\u001b[0m     \u001b[38;5;28;01mif\u001b[39;00m status \u001b[38;5;241m!=\u001b[39m CONTINUE:\n\u001b[1;32m    318\u001b[0m         \u001b[38;5;28;01mbreak\u001b[39;00m\n",
      "File \u001b[0;32m~/miniconda3/envs/Roy/lib/python3.8/http/client.py:285\u001b[0m, in \u001b[0;36mHTTPResponse._read_status\u001b[0;34m(self)\u001b[0m\n\u001b[1;32m    281\u001b[0m     \u001b[38;5;28mprint\u001b[39m(\u001b[38;5;124m\"\u001b[39m\u001b[38;5;124mreply:\u001b[39m\u001b[38;5;124m\"\u001b[39m, \u001b[38;5;28mrepr\u001b[39m(line))\n\u001b[1;32m    282\u001b[0m \u001b[38;5;28;01mif\u001b[39;00m \u001b[38;5;129;01mnot\u001b[39;00m line:\n\u001b[1;32m    283\u001b[0m     \u001b[38;5;66;03m# Presumably, the server closed the connection before\u001b[39;00m\n\u001b[1;32m    284\u001b[0m     \u001b[38;5;66;03m# sending a valid response.\u001b[39;00m\n\u001b[0;32m--> 285\u001b[0m     \u001b[38;5;28;01mraise\u001b[39;00m RemoteDisconnected(\u001b[38;5;124m\"\u001b[39m\u001b[38;5;124mRemote end closed connection without\u001b[39m\u001b[38;5;124m\"\u001b[39m\n\u001b[1;32m    286\u001b[0m                              \u001b[38;5;124m\"\u001b[39m\u001b[38;5;124m response\u001b[39m\u001b[38;5;124m\"\u001b[39m)\n\u001b[1;32m    287\u001b[0m \u001b[38;5;28;01mtry\u001b[39;00m:\n\u001b[1;32m    288\u001b[0m     version, status, reason \u001b[38;5;241m=\u001b[39m line\u001b[38;5;241m.\u001b[39msplit(\u001b[38;5;28;01mNone\u001b[39;00m, \u001b[38;5;241m2\u001b[39m)\n",
      "\u001b[0;31mRemoteDisconnected\u001b[0m: Remote end closed connection without response"
     ]
    }
   ],
   "source": [
    "from collections import Counter\n",
    "import pandas as pd\n",
    "import time\n",
    "\n",
    "num_outer_runs = 100  # 外層重複幾次\n",
    "num_inner_runs = 10    # 每次投票裡面做幾次\n",
    "at_least_show = 6     # 至少出現幾次就算\n",
    "\n",
    "summary_rows = []\n",
    "start_time = time.time()\n",
    "\n",
    "for outer_idx in range(1, num_outer_runs + 1):\n",
    "    all_blocks_this_outer = []\n",
    "\n",
    "    for inner_idx in range(num_inner_runs):\n",
    "        df_stats = StatTest(test=test, arch=arch, data=data)\n",
    "        redundant_blocks = df_stats[df_stats['p_val'] > 0.05]['block_index'].tolist()\n",
    "        all_blocks_this_outer.extend(redundant_blocks)\n",
    "\n",
    "    # 統計 5 次裡面每個 block 出現次數\n",
    "    counts = Counter(all_blocks_this_outer)\n",
    "\n",
    "    # 投票條件：至少出現 3 次\n",
    "    voted_blocks = sorted([block for block, count in counts.items() if count >= at_least_show])\n",
    "\n",
    "    voted_blocks_str = ','.join(map(str, voted_blocks))\n",
    "    num_voted = len(voted_blocks)\n",
    "\n",
    "    summary_rows.append([outer_idx, voted_blocks_str, num_voted])\n",
    "\n",
    "    print(f\"Outer Run {outer_idx}: Voted redundant blocks -> {voted_blocks_str}\")\n",
    "\n",
    "# --- 匯總 ---\n",
    "summary_df = pd.DataFrame(\n",
    "    summary_rows,\n",
    "    columns=['run_index', 'voted_redundant_blocks', 'num_voted_blocks']\n",
    ")\n",
    "\n",
    "elapsed_time = time.time() - start_time\n",
    "print(f\"\\nTotal elapsed time for {num_outer_runs} outer runs: {elapsed_time:.2f} seconds\")\n",
    "\n",
    "# 顯示或儲存\n",
    "print(\"\\nSummary of voted blocks across all runs:\")\n",
    "# print(summary_df.head())\n",
    "\n",
    "# 組檔名字串\n",
    "filename = f\"summary_{data}_{arch}_{test}_{num_inner_runs}runs_atleast{at_least_show}_sec_test.csv\"\n",
    "\n",
    "# 儲存\n",
    "summary_df.to_csv(filename, index=False)\n",
    "\n",
    "print(f\"Saved summary to: {filename}\")\n",
    "\n",
    "# --- 檢查是否完全一致 ---\n",
    "unique_sets = summary_df['voted_redundant_blocks'].nunique()\n",
    "if unique_sets == 1:\n",
    "    print(\"\\n🎉 All runs produced the same voted redundant block set! Very stable!\")\n",
    "else:\n",
    "    print(f\"\\n⚠️ Found {unique_sets} different voted block sets across {num_outer_runs} runs.\")\n",
    "\n",
    "summary_df\n"
   ]
  },
  {
   "cell_type": "code",
   "execution_count": null,
   "id": "293670c0",
   "metadata": {},
   "outputs": [
    {
     "name": "stdout",
     "output_type": "stream",
     "text": [
      "\n",
      "Block 出現次數統計：\n",
      "Block 11: 100 times, 100.0%\n",
      "Block 12: 100 times, 100.0%\n",
      "Block 14: 100 times, 100.0%\n",
      "Block 16: 100 times, 100.0%\n",
      "Block 17: 100 times, 100.0%\n",
      "Block 20: 100 times, 100.0%\n",
      "Block 25: 12 times, 12.0%\n"
     ]
    }
   ],
   "source": [
    "from collections import Counter\n",
    "\n",
    "# 攤平成一個大串列\n",
    "all_blocks = []\n",
    "for row in summary_df['voted_redundant_blocks']:\n",
    "    blocks = row.split(',')\n",
    "    all_blocks.extend(blocks)\n",
    "\n",
    "counts = Counter(all_blocks)\n",
    "print(\"\\nBlock 出現次數統計：\")\n",
    "for block, count in counts.most_common():\n",
    "    print(f\"Block {block}: {count} times, {count/100:.1%}\")\n"
   ]
  },
  {
   "cell_type": "code",
   "execution_count": null,
   "id": "22d86308",
   "metadata": {},
   "outputs": [
    {
     "data": {
      "image/png": "[encoded data removed]",
      "text/plain": [
       "<Figure size 1000x500 with 1 Axes>"
      ]
     },
     "metadata": {},
     "output_type": "display_data"
    }
   ],
   "source": [
    "import matplotlib.pyplot as plt\n",
    "\n",
    "blocks = list(map(int, counts.keys()))\n",
    "freqs = list(counts.values())\n",
    "\n",
    "plt.figure(figsize=(10, 5))\n",
    "plt.bar(blocks, freqs)\n",
    "plt.xlabel(\"Block index\")\n",
    "plt.ylabel(\"Occurrence in 100 runs\")\n",
    "plt.title(\"Redundant block occurrence frequency\")\n",
    "plt.xticks(blocks)\n",
    "plt.show()\n"
   ]
  }
 ],
 "metadata": {
  "kernelspec": {
   "display_name": "Roy",
   "language": "python",
   "name": "python3"
  },
  "language_info": {
   "codemirror_mode": {
    "name": "ipython",
    "version": 3
   },
   "file_extension": ".py",
   "mimetype": "text/x-python",
   "name": "python",
   "nbconvert_exporter": "python",
   "pygments_lexer": "ipython3",
   "version": "3.8.18"
  }
 },
 "nbformat": 4,
 "nbformat_minor": 5
}
